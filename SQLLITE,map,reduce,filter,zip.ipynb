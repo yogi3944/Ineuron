{
 "cells": [
  {
   "cell_type": "markdown",
   "id": "d8fef8e3",
   "metadata": {},
   "source": [
    "SQLLITE is inmemory database\n",
    "bydefault it will be installed in mobile\n",
    "it will create .db file in tabular format in local pc\n",
    "\n"
   ]
  },
  {
   "cell_type": "code",
   "execution_count": 2,
   "id": "869f01ef",
   "metadata": {},
   "outputs": [],
   "source": [
    "import sqlite3"
   ]
  },
  {
   "cell_type": "code",
   "execution_count": 4,
   "id": "46d1390e",
   "metadata": {},
   "outputs": [],
   "source": [
    "db=sqlite3.connect(\"ineuron.db\")     #will create ineuron .db file and keep structured data inside it"
   ]
  },
  {
   "cell_type": "code",
   "execution_count": 5,
   "id": "695ea5f3",
   "metadata": {},
   "outputs": [
    {
     "data": {
      "text/plain": [
       "<sqlite3.Connection at 0x7f87d90ff120>"
      ]
     },
     "execution_count": 5,
     "metadata": {},
     "output_type": "execute_result"
    }
   ],
   "source": [
    "db"
   ]
  },
  {
   "cell_type": "code",
   "execution_count": 6,
   "id": "1553e14f",
   "metadata": {},
   "outputs": [
    {
     "name": "stdout",
     "output_type": "stream",
     "text": [
      "Assignment 1.ipynb              exception handling.ipynb\r\n",
      "Assignment 2.ipynb              graphical python module\r\n",
      "Assignment_1.docx               ineuron.db\r\n",
      "Assignment_2.docx               mongodb.ipynb\r\n",
      "Logging.ipynb                   mydict.py\r\n",
      "Module.ipynb                    \u001b[34mpkg1\u001b[m\u001b[m/\r\n",
      "OOPS Class.ipynb                \u001b[34mpkg2\u001b[m\u001b[m/\r\n",
      "Programming Assignment 1.ipynb  test.log\r\n",
      "Programming Assignment 2.ipynb  test.py\r\n",
      "Programming_Assingment 3.ipynb  test1.py\r\n",
      "Programming_Assingment1.docx    test2.log\r\n",
      "Programming_Assingment2.docx    test3.log\r\n",
      "Programming_Assingment3.docx    \u001b[34myogi\u001b[m\u001b[m/\r\n",
      "SQLLITE.ipynb                   ~$ogramming_Assingment3.docx\r\n",
      "\u001b[34m__pycache__\u001b[m\u001b[m/\r\n"
     ]
    }
   ],
   "source": [
    "ls"
   ]
  },
  {
   "cell_type": "code",
   "execution_count": 7,
   "id": "3c07bc77",
   "metadata": {},
   "outputs": [],
   "source": [
    "c = db.cursor()"
   ]
  },
  {
   "cell_type": "code",
   "execution_count": 8,
   "id": "566df3eb",
   "metadata": {},
   "outputs": [
    {
     "data": {
      "text/plain": [
       "<sqlite3.Cursor at 0x7f87a004cf80>"
      ]
     },
     "execution_count": 8,
     "metadata": {},
     "output_type": "execute_result"
    }
   ],
   "source": [
    "c.execute(\"create table fsds(name txt, batchid int, marks real)\")"
   ]
  },
  {
   "cell_type": "code",
   "execution_count": 10,
   "id": "2bf54523",
   "metadata": {},
   "outputs": [
    {
     "data": {
      "text/plain": [
       "<sqlite3.Cursor at 0x7f87a004cf80>"
      ]
     },
     "execution_count": 10,
     "metadata": {},
     "output_type": "execute_result"
    }
   ],
   "source": [
    "c.execute(\"insert into fsds values('sudh',3434,456.67)\")"
   ]
  },
  {
   "cell_type": "code",
   "execution_count": 11,
   "id": "96cf229f",
   "metadata": {},
   "outputs": [
    {
     "data": {
      "text/plain": [
       "<sqlite3.Cursor at 0x7f87a004cf80>"
      ]
     },
     "execution_count": 11,
     "metadata": {},
     "output_type": "execute_result"
    }
   ],
   "source": [
    "c.execute(\"insert into fsds values('sudh',3434,456.61)\")"
   ]
  },
  {
   "cell_type": "code",
   "execution_count": 12,
   "id": "ef2c232e",
   "metadata": {},
   "outputs": [
    {
     "data": {
      "text/plain": [
       "<sqlite3.Cursor at 0x7f87a004cf80>"
      ]
     },
     "execution_count": 12,
     "metadata": {},
     "output_type": "execute_result"
    }
   ],
   "source": [
    "c.execute(\"insert into fsds values('sudh',3435,456.67)\")"
   ]
  },
  {
   "cell_type": "code",
   "execution_count": 13,
   "id": "a2bebd2a",
   "metadata": {},
   "outputs": [
    {
     "data": {
      "text/plain": [
       "<sqlite3.Cursor at 0x7f87a004cf80>"
      ]
     },
     "execution_count": 13,
     "metadata": {},
     "output_type": "execute_result"
    }
   ],
   "source": [
    "c.execute(\"insert into fsds values('sudhi',3434,456.67)\")"
   ]
  },
  {
   "cell_type": "code",
   "execution_count": 14,
   "id": "6d7dfe65",
   "metadata": {},
   "outputs": [
    {
     "data": {
      "text/plain": [
       "<sqlite3.Cursor at 0x7f87a004cf80>"
      ]
     },
     "execution_count": 14,
     "metadata": {},
     "output_type": "execute_result"
    }
   ],
   "source": [
    "c.execute(\"insert into fsds values('sudh',3434,456.67)\")\n",
    "c.execute(\"insert into fsds values('sudh',3434,456.67)\")\n",
    "c.execute(\"insert into fsds values('sudh',3434,456.67)\")\n",
    "c.execute(\"insert into fsds values('sudh',3434,456.67)\")\n",
    "c.execute(\"insert into fsds values('sudh',3434,456.67)\")\n"
   ]
  },
  {
   "cell_type": "code",
   "execution_count": 15,
   "id": "2b6ac72a",
   "metadata": {},
   "outputs": [],
   "source": [
    "data = c.execute(\"select * from fsds\")"
   ]
  },
  {
   "cell_type": "code",
   "execution_count": 16,
   "id": "23b75dd6",
   "metadata": {},
   "outputs": [
    {
     "name": "stdout",
     "output_type": "stream",
     "text": [
      "('sudh', 3434, 456.67)\n",
      "('sudh', 3434, 456.61)\n",
      "('sudh', 3435, 456.67)\n",
      "('sudhi', 3434, 456.67)\n",
      "('sudh', 3434, 456.67)\n",
      "('sudh', 3434, 456.67)\n",
      "('sudh', 3434, 456.67)\n",
      "('sudh', 3434, 456.67)\n",
      "('sudh', 3434, 456.67)\n"
     ]
    }
   ],
   "source": [
    "for i in data:\n",
    "    print(i)"
   ]
  },
  {
   "cell_type": "code",
   "execution_count": 17,
   "id": "05aee503",
   "metadata": {},
   "outputs": [],
   "source": [
    "db.commit()"
   ]
  },
  {
   "cell_type": "code",
   "execution_count": 18,
   "id": "419c5ba2",
   "metadata": {},
   "outputs": [],
   "source": [
    "db.close()"
   ]
  },
  {
   "cell_type": "code",
   "execution_count": 19,
   "id": "87ace530",
   "metadata": {},
   "outputs": [],
   "source": [
    "db = sqlite3.connect(\"ineuron.db\")"
   ]
  },
  {
   "cell_type": "code",
   "execution_count": 20,
   "id": "abb10738",
   "metadata": {},
   "outputs": [],
   "source": [
    "c=db.cursor()"
   ]
  },
  {
   "cell_type": "code",
   "execution_count": 22,
   "id": "72dae8ab",
   "metadata": {},
   "outputs": [],
   "source": [
    "data = c.execute(\"select * from fsds where marks<456.67\")"
   ]
  },
  {
   "cell_type": "code",
   "execution_count": 23,
   "id": "828b61e1",
   "metadata": {},
   "outputs": [
    {
     "name": "stdout",
     "output_type": "stream",
     "text": [
      "('sudh', 3434, 456.61)\n"
     ]
    }
   ],
   "source": [
    "for i in data:\n",
    "    print(i)"
   ]
  },
  {
   "cell_type": "code",
   "execution_count": 24,
   "id": "a39bac64",
   "metadata": {},
   "outputs": [],
   "source": [
    "data = c.execute(\"select * from fsds where name = 'sudhi'\")"
   ]
  },
  {
   "cell_type": "code",
   "execution_count": 25,
   "id": "fad07446",
   "metadata": {},
   "outputs": [
    {
     "name": "stdout",
     "output_type": "stream",
     "text": [
      "('sudhi', 3434, 456.67)\n"
     ]
    }
   ],
   "source": [
    "for i in data:\n",
    "    print(i)"
   ]
  },
  {
   "cell_type": "code",
   "execution_count": 26,
   "id": "e5b6ee28",
   "metadata": {},
   "outputs": [],
   "source": [
    "data = c.execute(\"select name,marks from fsds\")"
   ]
  },
  {
   "cell_type": "code",
   "execution_count": 27,
   "id": "db5feb6b",
   "metadata": {},
   "outputs": [
    {
     "name": "stdout",
     "output_type": "stream",
     "text": [
      "('sudh', 456.67)\n",
      "('sudh', 456.61)\n",
      "('sudh', 456.67)\n",
      "('sudhi', 456.67)\n",
      "('sudh', 456.67)\n",
      "('sudh', 456.67)\n",
      "('sudh', 456.67)\n",
      "('sudh', 456.67)\n",
      "('sudh', 456.67)\n"
     ]
    }
   ],
   "source": [
    "for i in data:\n",
    "    print(i)"
   ]
  },
  {
   "cell_type": "code",
   "execution_count": 28,
   "id": "655a92bb",
   "metadata": {},
   "outputs": [],
   "source": [
    "data=c.execute(\"select name,marks from fsds order by marks\")"
   ]
  },
  {
   "cell_type": "code",
   "execution_count": 29,
   "id": "663b7138",
   "metadata": {},
   "outputs": [
    {
     "name": "stdout",
     "output_type": "stream",
     "text": [
      "('sudh', 456.61)\n",
      "('sudh', 456.67)\n",
      "('sudh', 456.67)\n",
      "('sudhi', 456.67)\n",
      "('sudh', 456.67)\n",
      "('sudh', 456.67)\n",
      "('sudh', 456.67)\n",
      "('sudh', 456.67)\n",
      "('sudh', 456.67)\n"
     ]
    }
   ],
   "source": [
    "for i in data:\n",
    "    print(i)"
   ]
  },
  {
   "cell_type": "code",
   "execution_count": 32,
   "id": "a3df60d0",
   "metadata": {},
   "outputs": [],
   "source": [
    "data=c.execute(\"select name,marks from fsds des order by marks\")"
   ]
  },
  {
   "cell_type": "code",
   "execution_count": 33,
   "id": "d7e9d639",
   "metadata": {},
   "outputs": [
    {
     "name": "stdout",
     "output_type": "stream",
     "text": [
      "('sudh', 456.61)\n",
      "('sudh', 456.67)\n",
      "('sudh', 456.67)\n",
      "('sudhi', 456.67)\n",
      "('sudh', 456.67)\n",
      "('sudh', 456.67)\n",
      "('sudh', 456.67)\n",
      "('sudh', 456.67)\n",
      "('sudh', 456.67)\n"
     ]
    }
   ],
   "source": [
    "for i in data:\n",
    "    print(i)"
   ]
  },
  {
   "cell_type": "code",
   "execution_count": 34,
   "id": "9c93af55",
   "metadata": {},
   "outputs": [],
   "source": [
    "data=c.execute(\"select name,marks from fsds asc order by marks\")"
   ]
  },
  {
   "cell_type": "code",
   "execution_count": 35,
   "id": "24a52ed0",
   "metadata": {},
   "outputs": [
    {
     "name": "stdout",
     "output_type": "stream",
     "text": [
      "('sudh', 456.61)\n",
      "('sudh', 456.67)\n",
      "('sudh', 456.67)\n",
      "('sudhi', 456.67)\n",
      "('sudh', 456.67)\n",
      "('sudh', 456.67)\n",
      "('sudh', 456.67)\n",
      "('sudh', 456.67)\n",
      "('sudh', 456.67)\n"
     ]
    }
   ],
   "source": [
    "for i in data:\n",
    "    print(i)"
   ]
  },
  {
   "cell_type": "code",
   "execution_count": 36,
   "id": "937b20ec",
   "metadata": {},
   "outputs": [],
   "source": [
    "db.close()"
   ]
  },
  {
   "cell_type": "code",
   "execution_count": 37,
   "id": "02dd150c",
   "metadata": {},
   "outputs": [],
   "source": [
    "db=sqlite3.connect(\"person.db\")"
   ]
  },
  {
   "cell_type": "code",
   "execution_count": 38,
   "id": "b053b165",
   "metadata": {},
   "outputs": [],
   "source": [
    "c=db.cursor()"
   ]
  },
  {
   "cell_type": "code",
   "execution_count": 39,
   "id": "e060adea",
   "metadata": {},
   "outputs": [
    {
     "data": {
      "text/plain": [
       "<sqlite3.Cursor at 0x7f87d94ca880>"
      ]
     },
     "execution_count": 39,
     "metadata": {},
     "output_type": "execute_result"
    }
   ],
   "source": [
    "c.execute(\"create table person_table(name text, emailid text, age int, salary real)\")"
   ]
  },
  {
   "cell_type": "code",
   "execution_count": 40,
   "id": "06016bf7",
   "metadata": {},
   "outputs": [
    {
     "name": "stdout",
     "output_type": "stream",
     "text": [
      "Assignment 1.ipynb              exception handling.ipynb\r\n",
      "Assignment 2.ipynb              graphical python module\r\n",
      "Assignment_1.docx               ineuron.db\r\n",
      "Assignment_2.docx               mongodb.ipynb\r\n",
      "Logging.ipynb                   mydict.py\r\n",
      "Module.ipynb                    person.db\r\n",
      "OOPS Class.ipynb                \u001b[34mpkg1\u001b[m\u001b[m/\r\n",
      "Programming Assignment 1.ipynb  \u001b[34mpkg2\u001b[m\u001b[m/\r\n",
      "Programming Assignment 2.ipynb  test.log\r\n",
      "Programming_Assingment 3.ipynb  test.py\r\n",
      "Programming_Assingment1.docx    test1.py\r\n",
      "Programming_Assingment2.docx    test2.log\r\n",
      "Programming_Assingment3.docx    test3.log\r\n",
      "SQLLITE.ipynb                   \u001b[34myogi\u001b[m\u001b[m/\r\n",
      "\u001b[34m__pycache__\u001b[m\u001b[m/                    ~$ogramming_Assingment3.docx\r\n"
     ]
    }
   ],
   "source": [
    "ls"
   ]
  },
  {
   "cell_type": "code",
   "execution_count": 42,
   "id": "5d9e48e3",
   "metadata": {},
   "outputs": [
    {
     "data": {
      "text/plain": [
       "<sqlite3.Cursor at 0x7f87d94ca880>"
      ]
     },
     "execution_count": 42,
     "metadata": {},
     "output_type": "execute_result"
    }
   ],
   "source": [
    "c.execute(\"insert into person_table values('yogi', 'yogeshkumar.jsr@gmail.com', 33,45545)\")\n",
    "c.execute(\"insert into person_table values('pooja', 'poojasahu.jsr@gmail.com', 29,45543)\")\n",
    "c.execute(\"insert into person_table values('manharan', 'manharankumar.jsr@gmail.com', 56,455453)\")\n",
    "c.execute(\"insert into person_table values('nandini', 'nandinikumari.jsr@gmail.com', 54,4554543)\")\n",
    "c.execute(\"insert into person_table values('sanket', 'sanketkumar.jsr@gmail.com', 22,455425)\")"
   ]
  },
  {
   "cell_type": "code",
   "execution_count": null,
   "id": "f6987296",
   "metadata": {},
   "outputs": [],
   "source": []
  },
  {
   "cell_type": "code",
   "execution_count": 43,
   "id": "0fdda9dd",
   "metadata": {},
   "outputs": [],
   "source": [
    "data=c.execute(\"select * from person_table\")"
   ]
  },
  {
   "cell_type": "code",
   "execution_count": 44,
   "id": "03aef4c6",
   "metadata": {},
   "outputs": [
    {
     "name": "stdout",
     "output_type": "stream",
     "text": [
      "('yogi', 'yogeshkumar.jsr@gmail.com', 33, 45545.0)\n",
      "('pooja', 'poojasahu.jsr@gmail.com', 29, 45543.0)\n",
      "('manharan', 'manharankumar.jsr@gmail.com', 56, 455453.0)\n",
      "('nandini', 'nandinikumari.jsr@gmail.com', 54, 4554543.0)\n",
      "('sanket', 'sanketkumar.jsr@gmail.com', 22, 455425.0)\n"
     ]
    }
   ],
   "source": [
    "for i in data:\n",
    "    print (i)"
   ]
  },
  {
   "cell_type": "code",
   "execution_count": 45,
   "id": "e238fe80",
   "metadata": {},
   "outputs": [],
   "source": [
    "db.commit()"
   ]
  },
  {
   "cell_type": "code",
   "execution_count": 46,
   "id": "038657d5",
   "metadata": {},
   "outputs": [],
   "source": [
    "db.close()"
   ]
  },
  {
   "cell_type": "code",
   "execution_count": 47,
   "id": "94bcad7d",
   "metadata": {},
   "outputs": [],
   "source": [
    "db=sqlite3.connect(\"ineuron.db\")"
   ]
  },
  {
   "cell_type": "code",
   "execution_count": 48,
   "id": "04c9fa13",
   "metadata": {},
   "outputs": [],
   "source": [
    "c=db.cursor()"
   ]
  },
  {
   "cell_type": "code",
   "execution_count": 49,
   "id": "2b5d6f18",
   "metadata": {},
   "outputs": [
    {
     "data": {
      "text/plain": [
       "<sqlite3.Cursor at 0x7f87d94ca810>"
      ]
     },
     "execution_count": 49,
     "metadata": {},
     "output_type": "execute_result"
    }
   ],
   "source": [
    "c.execute(\"drop table fsds\")"
   ]
  },
  {
   "cell_type": "code",
   "execution_count": 50,
   "id": "f877c2b3",
   "metadata": {},
   "outputs": [
    {
     "ename": "OperationalError",
     "evalue": "no such table: fsds",
     "output_type": "error",
     "traceback": [
      "\u001b[0;31m---------------------------------------------------------------------------\u001b[0m",
      "\u001b[0;31mOperationalError\u001b[0m                          Traceback (most recent call last)",
      "\u001b[0;32m<ipython-input-50-5719184ac5b7>\u001b[0m in \u001b[0;36m<module>\u001b[0;34m\u001b[0m\n\u001b[0;32m----> 1\u001b[0;31m \u001b[0mdata\u001b[0m\u001b[0;34m=\u001b[0m\u001b[0mc\u001b[0m\u001b[0;34m.\u001b[0m\u001b[0mexecute\u001b[0m\u001b[0;34m(\u001b[0m\u001b[0;34m\"select * from fsds\"\u001b[0m\u001b[0;34m)\u001b[0m\u001b[0;34m\u001b[0m\u001b[0;34m\u001b[0m\u001b[0m\n\u001b[0m",
      "\u001b[0;31mOperationalError\u001b[0m: no such table: fsds"
     ]
    }
   ],
   "source": [
    "data=c.execute(\"select * from fsds\")"
   ]
  },
  {
   "cell_type": "code",
   "execution_count": 51,
   "id": "3cd42735",
   "metadata": {},
   "outputs": [
    {
     "name": "stdout",
     "output_type": "stream",
     "text": [
      "Assignment 1.ipynb              exception handling.ipynb\r\n",
      "Assignment 2.ipynb              graphical python module\r\n",
      "Assignment_1.docx               ineuron.db\r\n",
      "Assignment_2.docx               mongodb.ipynb\r\n",
      "Logging.ipynb                   mydict.py\r\n",
      "Module.ipynb                    person.db\r\n",
      "OOPS Class.ipynb                \u001b[34mpkg1\u001b[m\u001b[m/\r\n",
      "Programming Assignment 1.ipynb  \u001b[34mpkg2\u001b[m\u001b[m/\r\n",
      "Programming Assignment 2.ipynb  test.log\r\n",
      "Programming_Assingment 3.ipynb  test.py\r\n",
      "Programming_Assingment1.docx    test1.py\r\n",
      "Programming_Assingment2.docx    test2.log\r\n",
      "Programming_Assingment3.docx    test3.log\r\n",
      "SQLLITE.ipynb                   \u001b[34myogi\u001b[m\u001b[m/\r\n",
      "\u001b[34m__pycache__\u001b[m\u001b[m/                    ~$ogramming_Assingment3.docx\r\n"
     ]
    }
   ],
   "source": [
    "ls"
   ]
  },
  {
   "cell_type": "code",
   "execution_count": 52,
   "id": "bb738b3d",
   "metadata": {},
   "outputs": [],
   "source": [
    "db.close()"
   ]
  },
  {
   "cell_type": "code",
   "execution_count": 53,
   "id": "0e856da4",
   "metadata": {},
   "outputs": [],
   "source": [
    "db=sqlite3.connect(\"person.db\")"
   ]
  },
  {
   "cell_type": "code",
   "execution_count": 54,
   "id": "a30be351",
   "metadata": {},
   "outputs": [],
   "source": [
    "c=db.cursor()"
   ]
  },
  {
   "cell_type": "code",
   "execution_count": 55,
   "id": "859a8e5b",
   "metadata": {},
   "outputs": [],
   "source": [
    "data = c.execute(\"select * from person_table limit 2\")"
   ]
  },
  {
   "cell_type": "code",
   "execution_count": 56,
   "id": "6de58d67",
   "metadata": {},
   "outputs": [
    {
     "name": "stdout",
     "output_type": "stream",
     "text": [
      "('yogi', 'yogeshkumar.jsr@gmail.com', 33, 45545.0)\n",
      "('pooja', 'poojasahu.jsr@gmail.com', 29, 45543.0)\n"
     ]
    }
   ],
   "source": [
    "for i in data:\n",
    "    print(i)"
   ]
  },
  {
   "cell_type": "code",
   "execution_count": 57,
   "id": "f7344913",
   "metadata": {},
   "outputs": [],
   "source": [
    "db.close()"
   ]
  },
  {
   "cell_type": "code",
   "execution_count": 58,
   "id": "7085a8bd",
   "metadata": {},
   "outputs": [],
   "source": [
    "db=sqlite3.connect(\"joddb.db\")"
   ]
  },
  {
   "cell_type": "code",
   "execution_count": 59,
   "id": "2f01d54e",
   "metadata": {},
   "outputs": [],
   "source": [
    "c=db.cursor()"
   ]
  },
  {
   "cell_type": "code",
   "execution_count": 60,
   "id": "9fa684eb",
   "metadata": {},
   "outputs": [
    {
     "data": {
      "text/plain": [
       "<sqlite3.Cursor at 0x7f87d94d49d0>"
      ]
     },
     "execution_count": 60,
     "metadata": {},
     "output_type": "execute_result"
    }
   ],
   "source": [
    "c.execute(\"create table student (student_id int, student_name text, student_mailid text, marks int)\")"
   ]
  },
  {
   "cell_type": "code",
   "execution_count": 66,
   "id": "48f9619f",
   "metadata": {},
   "outputs": [
    {
     "ename": "OperationalError",
     "evalue": "table address already exists",
     "output_type": "error",
     "traceback": [
      "\u001b[0;31m---------------------------------------------------------------------------\u001b[0m",
      "\u001b[0;31mOperationalError\u001b[0m                          Traceback (most recent call last)",
      "\u001b[0;32m<ipython-input-66-78dfadddf820>\u001b[0m in \u001b[0;36m<module>\u001b[0;34m\u001b[0m\n\u001b[0;32m----> 1\u001b[0;31m \u001b[0mc\u001b[0m\u001b[0;34m.\u001b[0m\u001b[0mexecute\u001b[0m\u001b[0;34m(\u001b[0m\u001b[0;34m\"create table address(student_id int, pincode int, location txt, nearby text, phone_no int)\"\u001b[0m\u001b[0;34m)\u001b[0m\u001b[0;34m\u001b[0m\u001b[0;34m\u001b[0m\u001b[0m\n\u001b[0m",
      "\u001b[0;31mOperationalError\u001b[0m: table address already exists"
     ]
    }
   ],
   "source": [
    "c.execute(\"create table address(student_id int, pincode int, location txt, nearby text, phone_no int)\")"
   ]
  },
  {
   "cell_type": "code",
   "execution_count": 67,
   "id": "6fcaff11",
   "metadata": {},
   "outputs": [
    {
     "data": {
      "text/plain": [
       "<sqlite3.Cursor at 0x7f87d94d49d0>"
      ]
     },
     "execution_count": 67,
     "metadata": {},
     "output_type": "execute_result"
    }
   ],
   "source": [
    "c.execute(\"drop table address\")"
   ]
  },
  {
   "cell_type": "code",
   "execution_count": 68,
   "id": "c0e645f6",
   "metadata": {},
   "outputs": [
    {
     "data": {
      "text/plain": [
       "<sqlite3.Cursor at 0x7f87d94d49d0>"
      ]
     },
     "execution_count": 68,
     "metadata": {},
     "output_type": "execute_result"
    }
   ],
   "source": [
    "c.execute(\"create table address(student_id int, pincode int, location txt, nearby text, phone_no int)\")"
   ]
  },
  {
   "cell_type": "code",
   "execution_count": null,
   "id": "d513298b",
   "metadata": {},
   "outputs": [],
   "source": []
  },
  {
   "cell_type": "code",
   "execution_count": 63,
   "id": "639cda8b",
   "metadata": {},
   "outputs": [
    {
     "data": {
      "text/plain": [
       "<sqlite3.Cursor at 0x7f87d94d49d0>"
      ]
     },
     "execution_count": 63,
     "metadata": {},
     "output_type": "execute_result"
    }
   ],
   "source": [
    "c.execute(\"insert into student values(234,'pooja','poojasahudmt@gmail.com',234)\")"
   ]
  },
  {
   "cell_type": "code",
   "execution_count": 65,
   "id": "5a00dd3e",
   "metadata": {},
   "outputs": [
    {
     "data": {
      "text/plain": [
       "<sqlite3.Cursor at 0x7f87d94d49d0>"
      ]
     },
     "execution_count": 65,
     "metadata": {},
     "output_type": "execute_result"
    }
   ],
   "source": [
    "c.execute(\"insert into student values(234,'pooja','poojasahudmt@gmail.com',234)\")\n",
    "c.execute(\"insert into student values(235,'aooja','aoojasahudmt@gmail.com',235)\")\n",
    "c.execute(\"insert into student values(236,'qooja','soojasahudmt@gmail.com',232)\")\n",
    "c.execute(\"insert into student values(237,'wooja','doojasahudmt@gmail.com',237)\")\n",
    "c.execute(\"insert into student values(238,'eooja','foojasahudmt@gmail.com',233)\")\n",
    "c.execute(\"insert into student values(239,'rooja','goojasahudmt@gmail.com',238)\")\n",
    "c.execute(\"insert into student values(243,'tooja','hoojasahudmt@gmail.com',231)\")\n",
    "c.execute(\"insert into student values(245,'yooja','joojasahudmt@gmail.com',232)\")"
   ]
  },
  {
   "cell_type": "code",
   "execution_count": 69,
   "id": "1ebd27d0",
   "metadata": {},
   "outputs": [
    {
     "data": {
      "text/plain": [
       "<sqlite3.Cursor at 0x7f87d94d49d0>"
      ]
     },
     "execution_count": 69,
     "metadata": {},
     "output_type": "execute_result"
    }
   ],
   "source": [
    "c.execute(\"insert into address values(236,560034, 'varthur','whitefield',8197856704)\")"
   ]
  },
  {
   "cell_type": "code",
   "execution_count": 70,
   "id": "390ad45a",
   "metadata": {},
   "outputs": [
    {
     "data": {
      "text/plain": [
       "<sqlite3.Cursor at 0x7f87d94d49d0>"
      ]
     },
     "execution_count": 70,
     "metadata": {},
     "output_type": "execute_result"
    }
   ],
   "source": [
    "c.execute(\"insert into address values(236,5600347, 'varthur','whitefield',8197856704)\")\n",
    "c.execute(\"insert into address values(23455,5600345, 'qarthur','ahitefield',1197856704)\")\n",
    "c.execute(\"insert into address values(2676,5600342, 'warthur','shitefield',2197856704)\")\n",
    "c.execute(\"insert into address values(2326,56003434, 'earthur','dhitefield',3197856704)\")\n",
    "c.execute(\"insert into address values(2361,56003412, 'rarthur','fhitefield',4197856704)\")\n",
    "c.execute(\"insert into address values(23634,56003445, 'tarthur','ghitefield',5197856704)\")\n",
    "c.execute(\"insert into address values(2362,56003423, 'yarthur','hhitefield',6197856704)\")\n",
    "c.execute(\"insert into address values(23656,560045, 'uarthur','jhitefield',7197856704)\")\n",
    "c.execute(\"insert into address values(2361,5600334, 'iarthur','khitefield',8197856704)\")"
   ]
  },
  {
   "cell_type": "code",
   "execution_count": 74,
   "id": "63c6bf15",
   "metadata": {},
   "outputs": [],
   "source": [
    "data = c.execute(\"select * from student\")"
   ]
  },
  {
   "cell_type": "code",
   "execution_count": 75,
   "id": "030aabce",
   "metadata": {},
   "outputs": [
    {
     "name": "stdout",
     "output_type": "stream",
     "text": [
      "(234, 'pooja', 'poojasahudmt@gmail.com', 234)\n",
      "(234, 'pooja', 'poojasahudmt@gmail.com', 234)\n",
      "(234, 'pooja', 'poojasahudmt@gmail.com', 234)\n",
      "(234, 'pooja', 'poojasahudmt@gmail.com', 234)\n",
      "(234, 'pooja', 'poojasahudmt@gmail.com', 234)\n",
      "(234, 'pooja', 'poojasahudmt@gmail.com', 234)\n",
      "(234, 'pooja', 'poojasahudmt@gmail.com', 234)\n",
      "(234, 'pooja', 'poojasahudmt@gmail.com', 234)\n",
      "(234, 'pooja', 'poojasahudmt@gmail.com', 234)\n",
      "(234, 'pooja', 'poojasahudmt@gmail.com', 234)\n",
      "(235, 'aooja', 'aoojasahudmt@gmail.com', 235)\n",
      "(236, 'qooja', 'soojasahudmt@gmail.com', 232)\n",
      "(237, 'wooja', 'doojasahudmt@gmail.com', 237)\n",
      "(238, 'eooja', 'foojasahudmt@gmail.com', 233)\n",
      "(239, 'rooja', 'goojasahudmt@gmail.com', 238)\n",
      "(243, 'tooja', 'hoojasahudmt@gmail.com', 231)\n",
      "(245, 'yooja', 'joojasahudmt@gmail.com', 232)\n"
     ]
    }
   ],
   "source": [
    "for i in data:\n",
    "    print(i)\n"
   ]
  },
  {
   "cell_type": "code",
   "execution_count": 76,
   "id": "d3e7887a",
   "metadata": {},
   "outputs": [],
   "source": [
    "data = c.execute(\"select * from address\")"
   ]
  },
  {
   "cell_type": "code",
   "execution_count": 77,
   "id": "66095489",
   "metadata": {},
   "outputs": [
    {
     "name": "stdout",
     "output_type": "stream",
     "text": [
      "(236, 560034, 'varthur', 'whitefield', 8197856704)\n",
      "(236, 5600347, 'varthur', 'whitefield', 8197856704)\n",
      "(23455, 5600345, 'qarthur', 'ahitefield', 1197856704)\n",
      "(2676, 5600342, 'warthur', 'shitefield', 2197856704)\n",
      "(2326, 56003434, 'earthur', 'dhitefield', 3197856704)\n",
      "(2361, 56003412, 'rarthur', 'fhitefield', 4197856704)\n",
      "(23634, 56003445, 'tarthur', 'ghitefield', 5197856704)\n",
      "(2362, 56003423, 'yarthur', 'hhitefield', 6197856704)\n",
      "(23656, 560045, 'uarthur', 'jhitefield', 7197856704)\n",
      "(2361, 5600334, 'iarthur', 'khitefield', 8197856704)\n"
     ]
    }
   ],
   "source": [
    "for i in data:\n",
    "    print(i)"
   ]
  },
  {
   "cell_type": "code",
   "execution_count": 79,
   "id": "fc561378",
   "metadata": {},
   "outputs": [],
   "source": [
    "data = c.execute(\"select * from student s left join address a on s.student_id=a.student_id\")"
   ]
  },
  {
   "cell_type": "code",
   "execution_count": 80,
   "id": "34394373",
   "metadata": {},
   "outputs": [
    {
     "name": "stdout",
     "output_type": "stream",
     "text": [
      "(234, 'pooja', 'poojasahudmt@gmail.com', 234, None, None, None, None, None)\n",
      "(234, 'pooja', 'poojasahudmt@gmail.com', 234, None, None, None, None, None)\n",
      "(234, 'pooja', 'poojasahudmt@gmail.com', 234, None, None, None, None, None)\n",
      "(234, 'pooja', 'poojasahudmt@gmail.com', 234, None, None, None, None, None)\n",
      "(234, 'pooja', 'poojasahudmt@gmail.com', 234, None, None, None, None, None)\n",
      "(234, 'pooja', 'poojasahudmt@gmail.com', 234, None, None, None, None, None)\n",
      "(234, 'pooja', 'poojasahudmt@gmail.com', 234, None, None, None, None, None)\n",
      "(234, 'pooja', 'poojasahudmt@gmail.com', 234, None, None, None, None, None)\n",
      "(234, 'pooja', 'poojasahudmt@gmail.com', 234, None, None, None, None, None)\n",
      "(234, 'pooja', 'poojasahudmt@gmail.com', 234, None, None, None, None, None)\n",
      "(235, 'aooja', 'aoojasahudmt@gmail.com', 235, None, None, None, None, None)\n",
      "(236, 'qooja', 'soojasahudmt@gmail.com', 232, 236, 560034, 'varthur', 'whitefield', 8197856704)\n",
      "(236, 'qooja', 'soojasahudmt@gmail.com', 232, 236, 5600347, 'varthur', 'whitefield', 8197856704)\n",
      "(237, 'wooja', 'doojasahudmt@gmail.com', 237, None, None, None, None, None)\n",
      "(238, 'eooja', 'foojasahudmt@gmail.com', 233, None, None, None, None, None)\n",
      "(239, 'rooja', 'goojasahudmt@gmail.com', 238, None, None, None, None, None)\n",
      "(243, 'tooja', 'hoojasahudmt@gmail.com', 231, None, None, None, None, None)\n",
      "(245, 'yooja', 'joojasahudmt@gmail.com', 232, None, None, None, None, None)\n"
     ]
    }
   ],
   "source": [
    "for i in data:\n",
    "    print(i)"
   ]
  },
  {
   "cell_type": "code",
   "execution_count": 81,
   "id": "ab527393",
   "metadata": {},
   "outputs": [
    {
     "ename": "OperationalError",
     "evalue": "RIGHT and FULL OUTER JOINs are not currently supported",
     "output_type": "error",
     "traceback": [
      "\u001b[0;31m---------------------------------------------------------------------------\u001b[0m",
      "\u001b[0;31mOperationalError\u001b[0m                          Traceback (most recent call last)",
      "\u001b[0;32m<ipython-input-81-577ada0a6bbe>\u001b[0m in \u001b[0;36m<module>\u001b[0;34m\u001b[0m\n\u001b[0;32m----> 1\u001b[0;31m \u001b[0mdata\u001b[0m \u001b[0;34m=\u001b[0m \u001b[0mc\u001b[0m\u001b[0;34m.\u001b[0m\u001b[0mexecute\u001b[0m\u001b[0;34m(\u001b[0m\u001b[0;34m\"select * from student s right join address a on s.student_id=a.student_id\"\u001b[0m\u001b[0;34m)\u001b[0m\u001b[0;34m\u001b[0m\u001b[0;34m\u001b[0m\u001b[0m\n\u001b[0m",
      "\u001b[0;31mOperationalError\u001b[0m: RIGHT and FULL OUTER JOINs are not currently supported"
     ]
    }
   ],
   "source": [
    "data = c.execute(\"select * from student s right join address a on s.student_id=a.student_id\")"
   ]
  },
  {
   "cell_type": "code",
   "execution_count": 83,
   "id": "122f22f2",
   "metadata": {},
   "outputs": [],
   "source": [
    "data = c.execute(\"select * from student s left join address a on s.student_id=a.student_id where a.student_id is not null\"\n",
    "                )"
   ]
  },
  {
   "cell_type": "code",
   "execution_count": 84,
   "id": "27ba59e9",
   "metadata": {},
   "outputs": [
    {
     "name": "stdout",
     "output_type": "stream",
     "text": [
      "(236, 'qooja', 'soojasahudmt@gmail.com', 232, 236, 560034, 'varthur', 'whitefield', 8197856704)\n",
      "(236, 'qooja', 'soojasahudmt@gmail.com', 232, 236, 5600347, 'varthur', 'whitefield', 8197856704)\n"
     ]
    }
   ],
   "source": [
    "for i in data:\n",
    "    print(i)"
   ]
  },
  {
   "cell_type": "code",
   "execution_count": 85,
   "id": "6e0ef3d6",
   "metadata": {},
   "outputs": [],
   "source": [
    "data = c.execute(\"select * from address s left join student a on s.student_id=a.student_id\")"
   ]
  },
  {
   "cell_type": "code",
   "execution_count": 86,
   "id": "d205714d",
   "metadata": {},
   "outputs": [
    {
     "name": "stdout",
     "output_type": "stream",
     "text": [
      "(236, 560034, 'varthur', 'whitefield', 8197856704, 236, 'qooja', 'soojasahudmt@gmail.com', 232)\n",
      "(236, 5600347, 'varthur', 'whitefield', 8197856704, 236, 'qooja', 'soojasahudmt@gmail.com', 232)\n",
      "(23455, 5600345, 'qarthur', 'ahitefield', 1197856704, None, None, None, None)\n",
      "(2676, 5600342, 'warthur', 'shitefield', 2197856704, None, None, None, None)\n",
      "(2326, 56003434, 'earthur', 'dhitefield', 3197856704, None, None, None, None)\n",
      "(2361, 56003412, 'rarthur', 'fhitefield', 4197856704, None, None, None, None)\n",
      "(23634, 56003445, 'tarthur', 'ghitefield', 5197856704, None, None, None, None)\n",
      "(2362, 56003423, 'yarthur', 'hhitefield', 6197856704, None, None, None, None)\n",
      "(23656, 560045, 'uarthur', 'jhitefield', 7197856704, None, None, None, None)\n",
      "(2361, 5600334, 'iarthur', 'khitefield', 8197856704, None, None, None, None)\n"
     ]
    }
   ],
   "source": [
    "for i in data:\n",
    "    print(i)"
   ]
  },
  {
   "cell_type": "code",
   "execution_count": 87,
   "id": "a16cf6b5",
   "metadata": {},
   "outputs": [],
   "source": [
    "data = c.execute(\"select * from address s left join student a on s.student_id=a.student_id where a.student_id is not null\"\n",
    "                )"
   ]
  },
  {
   "cell_type": "code",
   "execution_count": 88,
   "id": "6a907ba0",
   "metadata": {},
   "outputs": [
    {
     "name": "stdout",
     "output_type": "stream",
     "text": [
      "(236, 560034, 'varthur', 'whitefield', 8197856704, 236, 'qooja', 'soojasahudmt@gmail.com', 232)\n",
      "(236, 5600347, 'varthur', 'whitefield', 8197856704, 236, 'qooja', 'soojasahudmt@gmail.com', 232)\n"
     ]
    }
   ],
   "source": [
    "for i in data:\n",
    "    print(i)"
   ]
  },
  {
   "cell_type": "code",
   "execution_count": 92,
   "id": "f5545a57",
   "metadata": {},
   "outputs": [],
   "source": [
    "data=c.execute(\"delete from student where student_id >239\")"
   ]
  },
  {
   "cell_type": "code",
   "execution_count": 94,
   "id": "bbb55721",
   "metadata": {},
   "outputs": [],
   "source": [
    "for i in data:\n",
    "    print(i)"
   ]
  },
  {
   "cell_type": "code",
   "execution_count": 95,
   "id": "a537da40",
   "metadata": {},
   "outputs": [
    {
     "name": "stdout",
     "output_type": "stream",
     "text": [
      "(234, 'pooja', 'poojasahudmt@gmail.com', 234)\n",
      "(234, 'pooja', 'poojasahudmt@gmail.com', 234)\n",
      "(234, 'pooja', 'poojasahudmt@gmail.com', 234)\n",
      "(234, 'pooja', 'poojasahudmt@gmail.com', 234)\n",
      "(234, 'pooja', 'poojasahudmt@gmail.com', 234)\n",
      "(234, 'pooja', 'poojasahudmt@gmail.com', 234)\n",
      "(234, 'pooja', 'poojasahudmt@gmail.com', 234)\n",
      "(234, 'pooja', 'poojasahudmt@gmail.com', 234)\n",
      "(234, 'pooja', 'poojasahudmt@gmail.com', 234)\n",
      "(234, 'pooja', 'poojasahudmt@gmail.com', 234)\n",
      "(235, 'aooja', 'aoojasahudmt@gmail.com', 235)\n",
      "(236, 'qooja', 'soojasahudmt@gmail.com', 232)\n",
      "(237, 'wooja', 'doojasahudmt@gmail.com', 237)\n",
      "(238, 'eooja', 'foojasahudmt@gmail.com', 233)\n",
      "(239, 'rooja', 'goojasahudmt@gmail.com', 238)\n"
     ]
    }
   ],
   "source": [
    "for i in c.execute(\"select * from student\"):\n",
    "    print(i)"
   ]
  },
  {
   "cell_type": "code",
   "execution_count": 96,
   "id": "1cf06c34",
   "metadata": {},
   "outputs": [
    {
     "data": {
      "text/plain": [
       "[]"
      ]
     },
     "execution_count": 96,
     "metadata": {},
     "output_type": "execute_result"
    }
   ],
   "source": [
    "data.fetchall()"
   ]
  },
  {
   "cell_type": "code",
   "execution_count": 97,
   "id": "9f7d6047",
   "metadata": {},
   "outputs": [],
   "source": [
    "data=c.execute(\"select * from student\")"
   ]
  },
  {
   "cell_type": "code",
   "execution_count": 98,
   "id": "92a2d721",
   "metadata": {},
   "outputs": [
    {
     "data": {
      "text/plain": [
       "[(234, 'pooja', 'poojasahudmt@gmail.com', 234),\n",
       " (234, 'pooja', 'poojasahudmt@gmail.com', 234),\n",
       " (234, 'pooja', 'poojasahudmt@gmail.com', 234),\n",
       " (234, 'pooja', 'poojasahudmt@gmail.com', 234),\n",
       " (234, 'pooja', 'poojasahudmt@gmail.com', 234),\n",
       " (234, 'pooja', 'poojasahudmt@gmail.com', 234),\n",
       " (234, 'pooja', 'poojasahudmt@gmail.com', 234),\n",
       " (234, 'pooja', 'poojasahudmt@gmail.com', 234),\n",
       " (234, 'pooja', 'poojasahudmt@gmail.com', 234),\n",
       " (234, 'pooja', 'poojasahudmt@gmail.com', 234),\n",
       " (235, 'aooja', 'aoojasahudmt@gmail.com', 235),\n",
       " (236, 'qooja', 'soojasahudmt@gmail.com', 232),\n",
       " (237, 'wooja', 'doojasahudmt@gmail.com', 237),\n",
       " (238, 'eooja', 'foojasahudmt@gmail.com', 233),\n",
       " (239, 'rooja', 'goojasahudmt@gmail.com', 238)]"
      ]
     },
     "execution_count": 98,
     "metadata": {},
     "output_type": "execute_result"
    }
   ],
   "source": [
    "data.fetchall()"
   ]
  },
  {
   "cell_type": "code",
   "execution_count": 99,
   "id": "28610596",
   "metadata": {},
   "outputs": [
    {
     "data": {
      "text/plain": [
       "<sqlite3.Cursor at 0x7f87d94d49d0>"
      ]
     },
     "execution_count": 99,
     "metadata": {},
     "output_type": "execute_result"
    }
   ],
   "source": [
    "c.execute(\"update student set student_id=1000 where student_id>237\")"
   ]
  },
  {
   "cell_type": "code",
   "execution_count": 100,
   "id": "3f421940",
   "metadata": {},
   "outputs": [],
   "source": [
    "data=c.execute(\"select * from student\")"
   ]
  },
  {
   "cell_type": "code",
   "execution_count": 101,
   "id": "7fbbe86c",
   "metadata": {},
   "outputs": [
    {
     "data": {
      "text/plain": [
       "[(234, 'pooja', 'poojasahudmt@gmail.com', 234),\n",
       " (234, 'pooja', 'poojasahudmt@gmail.com', 234),\n",
       " (234, 'pooja', 'poojasahudmt@gmail.com', 234),\n",
       " (234, 'pooja', 'poojasahudmt@gmail.com', 234),\n",
       " (234, 'pooja', 'poojasahudmt@gmail.com', 234),\n",
       " (234, 'pooja', 'poojasahudmt@gmail.com', 234),\n",
       " (234, 'pooja', 'poojasahudmt@gmail.com', 234),\n",
       " (234, 'pooja', 'poojasahudmt@gmail.com', 234),\n",
       " (234, 'pooja', 'poojasahudmt@gmail.com', 234),\n",
       " (234, 'pooja', 'poojasahudmt@gmail.com', 234),\n",
       " (235, 'aooja', 'aoojasahudmt@gmail.com', 235),\n",
       " (236, 'qooja', 'soojasahudmt@gmail.com', 232),\n",
       " (237, 'wooja', 'doojasahudmt@gmail.com', 237),\n",
       " (1000, 'eooja', 'foojasahudmt@gmail.com', 233),\n",
       " (1000, 'rooja', 'goojasahudmt@gmail.com', 238)]"
      ]
     },
     "execution_count": 101,
     "metadata": {},
     "output_type": "execute_result"
    }
   ],
   "source": [
    "data.fetchall()"
   ]
  },
  {
   "cell_type": "code",
   "execution_count": 103,
   "id": "719ffadc",
   "metadata": {},
   "outputs": [],
   "source": [
    "db.close()"
   ]
  },
  {
   "cell_type": "code",
   "execution_count": 104,
   "id": "9b09a031",
   "metadata": {},
   "outputs": [
    {
     "name": "stdout",
     "output_type": "stream",
     "text": [
      "Assignment 1.ipynb              graphical python module\r\n",
      "Assignment 2.ipynb              ineuron.db\r\n",
      "Assignment_1.docx               joddb.db\r\n",
      "Assignment_2.docx               mongodb.ipynb\r\n",
      "Logging.ipynb                   mydict.py\r\n",
      "Module.ipynb                    person.db\r\n",
      "OOPS Class.ipynb                \u001b[34mpkg1\u001b[m\u001b[m/\r\n",
      "Programming Assignment 1.ipynb  \u001b[34mpkg2\u001b[m\u001b[m/\r\n",
      "Programming Assignment 2.ipynb  test.log\r\n",
      "Programming_Assingment 3.ipynb  test.py\r\n",
      "Programming_Assingment1.docx    test1.py\r\n",
      "Programming_Assingment2.docx    test2.log\r\n",
      "Programming_Assingment3.docx    test3.log\r\n",
      "SQLLITE.ipynb                   \u001b[34myogi\u001b[m\u001b[m/\r\n",
      "\u001b[34m__pycache__\u001b[m\u001b[m/                    ~$ogramming_Assingment3.docx\r\n",
      "exception handling.ipynb\r\n"
     ]
    }
   ],
   "source": [
    "ls"
   ]
  },
  {
   "cell_type": "code",
   "execution_count": 106,
   "id": "5275cc53",
   "metadata": {},
   "outputs": [],
   "source": [
    "l=[1,2,3,4,5]\n",
    "l1=[]"
   ]
  },
  {
   "cell_type": "code",
   "execution_count": 107,
   "id": "1f73a8ba",
   "metadata": {},
   "outputs": [],
   "source": [
    "for i in l:\n",
    "    i=i+5\n",
    "    l1.append(i)\n",
    "    "
   ]
  },
  {
   "cell_type": "code",
   "execution_count": 108,
   "id": "e4e391cf",
   "metadata": {},
   "outputs": [
    {
     "data": {
      "text/plain": [
       "[6, 7, 8, 9, 10]"
      ]
     },
     "execution_count": 108,
     "metadata": {},
     "output_type": "execute_result"
    }
   ],
   "source": [
    "l1"
   ]
  },
  {
   "cell_type": "code",
   "execution_count": 109,
   "id": "beb18cdb",
   "metadata": {},
   "outputs": [
    {
     "data": {
      "text/plain": [
       "[6, 7, 8, 9, 10]"
      ]
     },
     "execution_count": 109,
     "metadata": {},
     "output_type": "execute_result"
    }
   ],
   "source": [
    "[i+5 for i in l]"
   ]
  },
  {
   "cell_type": "code",
   "execution_count": 110,
   "id": "7413692e",
   "metadata": {},
   "outputs": [],
   "source": [
    "def test(a):\n",
    "    return a+5"
   ]
  },
  {
   "cell_type": "code",
   "execution_count": 111,
   "id": "5208150a",
   "metadata": {},
   "outputs": [
    {
     "data": {
      "text/plain": [
       "<map at 0x7f87d9092ca0>"
      ]
     },
     "execution_count": 111,
     "metadata": {},
     "output_type": "execute_result"
    }
   ],
   "source": [
    "map(test,l)"
   ]
  },
  {
   "cell_type": "code",
   "execution_count": 112,
   "id": "dd786f19",
   "metadata": {},
   "outputs": [
    {
     "data": {
      "text/plain": [
       "[6, 7, 8, 9, 10]"
      ]
     },
     "execution_count": 112,
     "metadata": {},
     "output_type": "execute_result"
    }
   ],
   "source": [
    "list(map(test,l))"
   ]
  },
  {
   "cell_type": "code",
   "execution_count": 113,
   "id": "aa054ea7",
   "metadata": {},
   "outputs": [],
   "source": [
    "def test1(a):\n",
    "    return a*3435+566"
   ]
  },
  {
   "cell_type": "code",
   "execution_count": 115,
   "id": "c7606f0b",
   "metadata": {},
   "outputs": [
    {
     "data": {
      "text/plain": [
       "[4001, 7436, 10871, 14306, 17741]"
      ]
     },
     "execution_count": 115,
     "metadata": {},
     "output_type": "execute_result"
    }
   ],
   "source": [
    "list(map(test1,l))"
   ]
  },
  {
   "cell_type": "code",
   "execution_count": 116,
   "id": "629becd0",
   "metadata": {},
   "outputs": [],
   "source": [
    "l1=['234','345','567','123','231']"
   ]
  },
  {
   "cell_type": "code",
   "execution_count": 117,
   "id": "ceca10f9",
   "metadata": {},
   "outputs": [],
   "source": [
    "def strtoint(a):\n",
    "    return int(a)"
   ]
  },
  {
   "cell_type": "code",
   "execution_count": 118,
   "id": "1b9870fb",
   "metadata": {},
   "outputs": [
    {
     "data": {
      "text/plain": [
       "[234, 345, 567, 123, 231]"
      ]
     },
     "execution_count": 118,
     "metadata": {},
     "output_type": "execute_result"
    }
   ],
   "source": [
    "list(map(strtoint,l1))"
   ]
  },
  {
   "cell_type": "code",
   "execution_count": 119,
   "id": "4bf38afb",
   "metadata": {},
   "outputs": [
    {
     "data": {
      "text/plain": [
       "[234, 345, 567, 123, 231]"
      ]
     },
     "execution_count": 119,
     "metadata": {},
     "output_type": "execute_result"
    }
   ],
   "source": [
    "list(map(lambda x:int(x),l1))"
   ]
  },
  {
   "cell_type": "code",
   "execution_count": 120,
   "id": "24187a9e",
   "metadata": {},
   "outputs": [
    {
     "data": {
      "text/plain": [
       "[6, 7, 8, 9, 10]"
      ]
     },
     "execution_count": 120,
     "metadata": {},
     "output_type": "execute_result"
    }
   ],
   "source": [
    "list(map(lambda x:x+5,l))"
   ]
  },
  {
   "cell_type": "code",
   "execution_count": 122,
   "id": "faf147c7",
   "metadata": {},
   "outputs": [],
   "source": [
    "l=[4,5,6,7,32,12,23,11,56,234,651]"
   ]
  },
  {
   "cell_type": "code",
   "execution_count": 123,
   "id": "ac9a707d",
   "metadata": {},
   "outputs": [
    {
     "data": {
      "text/plain": [
       "[True, False, True, False, True, True, False, False, True, True, False]"
      ]
     },
     "execution_count": 123,
     "metadata": {},
     "output_type": "execute_result"
    }
   ],
   "source": [
    "list(map(lambda x:x%2==0,l))"
   ]
  },
  {
   "cell_type": "code",
   "execution_count": 125,
   "id": "76ba0601",
   "metadata": {},
   "outputs": [],
   "source": [
    "def evennum(x):\n",
    "    if x%2==0:\n",
    "        return x"
   ]
  },
  {
   "cell_type": "code",
   "execution_count": 124,
   "id": "9103c78b",
   "metadata": {},
   "outputs": [
    {
     "data": {
      "text/plain": [
       "[4, 6, 32, 12, 56, 234]"
      ]
     },
     "execution_count": 124,
     "metadata": {},
     "output_type": "execute_result"
    }
   ],
   "source": [
    "[i for i in l if i%2==0]"
   ]
  },
  {
   "cell_type": "markdown",
   "id": "ed8eb23c",
   "metadata": {},
   "source": [
    "filter operation , map will do the operation in all the items but filter will filter the items"
   ]
  },
  {
   "cell_type": "code",
   "execution_count": 126,
   "id": "66cc9f72",
   "metadata": {},
   "outputs": [
    {
     "data": {
      "text/plain": [
       "[4, 6, 32, 12, 56, 234]"
      ]
     },
     "execution_count": 126,
     "metadata": {},
     "output_type": "execute_result"
    }
   ],
   "source": [
    "list(filter(evennum,l))"
   ]
  },
  {
   "cell_type": "code",
   "execution_count": 127,
   "id": "9ed1550a",
   "metadata": {},
   "outputs": [
    {
     "data": {
      "text/plain": [
       "[4, 6, 32, 12, 56, 234]"
      ]
     },
     "execution_count": 127,
     "metadata": {},
     "output_type": "execute_result"
    }
   ],
   "source": [
    "list(filter(lambda x:x%2==0,l))"
   ]
  },
  {
   "cell_type": "markdown",
   "id": "ba09810a",
   "metadata": {},
   "source": [
    "Reduce function"
   ]
  },
  {
   "cell_type": "markdown",
   "id": "fe416a33",
   "metadata": {},
   "source": [
    "Reduce Function"
   ]
  },
  {
   "cell_type": "code",
   "execution_count": 128,
   "id": "487354e2",
   "metadata": {},
   "outputs": [],
   "source": [
    "from functools import reduce"
   ]
  },
  {
   "cell_type": "code",
   "execution_count": 129,
   "id": "728e7e85",
   "metadata": {},
   "outputs": [],
   "source": [
    "l=[3,4,5,6,7,8,3]"
   ]
  },
  {
   "cell_type": "code",
   "execution_count": 130,
   "id": "c86d14d8",
   "metadata": {},
   "outputs": [],
   "source": [
    "def test5(a,b):\n",
    "    return a+b"
   ]
  },
  {
   "cell_type": "code",
   "execution_count": 131,
   "id": "973464fb",
   "metadata": {},
   "outputs": [
    {
     "data": {
      "text/plain": [
       "36"
      ]
     },
     "execution_count": 131,
     "metadata": {},
     "output_type": "execute_result"
    }
   ],
   "source": [
    "reduce(test5,l)"
   ]
  },
  {
   "cell_type": "code",
   "execution_count": 132,
   "id": "6c6f8f97",
   "metadata": {},
   "outputs": [],
   "source": [
    "def test6(a,b,c):\n",
    "    return a+b+c"
   ]
  },
  {
   "cell_type": "code",
   "execution_count": 133,
   "id": "a7284563",
   "metadata": {},
   "outputs": [
    {
     "ename": "TypeError",
     "evalue": "test6() missing 1 required positional argument: 'c'",
     "output_type": "error",
     "traceback": [
      "\u001b[0;31m---------------------------------------------------------------------------\u001b[0m",
      "\u001b[0;31mTypeError\u001b[0m                                 Traceback (most recent call last)",
      "\u001b[0;32m<ipython-input-133-03fb89d6df43>\u001b[0m in \u001b[0;36m<module>\u001b[0;34m\u001b[0m\n\u001b[0;32m----> 1\u001b[0;31m \u001b[0mreduce\u001b[0m\u001b[0;34m(\u001b[0m\u001b[0mtest6\u001b[0m\u001b[0;34m,\u001b[0m\u001b[0ml\u001b[0m\u001b[0;34m)\u001b[0m\u001b[0;34m\u001b[0m\u001b[0;34m\u001b[0m\u001b[0m\n\u001b[0m",
      "\u001b[0;31mTypeError\u001b[0m: test6() missing 1 required positional argument: 'c'"
     ]
    }
   ],
   "source": [
    "reduce(test6,l)"
   ]
  },
  {
   "cell_type": "code",
   "execution_count": 135,
   "id": "c4a46191",
   "metadata": {},
   "outputs": [],
   "source": [
    "l=[3]"
   ]
  },
  {
   "cell_type": "code",
   "execution_count": 136,
   "id": "fda3ccdb",
   "metadata": {},
   "outputs": [
    {
     "data": {
      "text/plain": [
       "3"
      ]
     },
     "execution_count": 136,
     "metadata": {},
     "output_type": "execute_result"
    }
   ],
   "source": [
    "reduce(test5,l)"
   ]
  },
  {
   "cell_type": "code",
   "execution_count": 137,
   "id": "1c09a35d",
   "metadata": {},
   "outputs": [],
   "source": [
    "l=[]"
   ]
  },
  {
   "cell_type": "code",
   "execution_count": 138,
   "id": "7b86b40c",
   "metadata": {
    "scrolled": true
   },
   "outputs": [
    {
     "ename": "TypeError",
     "evalue": "reduce() of empty sequence with no initial value",
     "output_type": "error",
     "traceback": [
      "\u001b[0;31m---------------------------------------------------------------------------\u001b[0m",
      "\u001b[0;31mTypeError\u001b[0m                                 Traceback (most recent call last)",
      "\u001b[0;32m<ipython-input-138-43b81825c9ba>\u001b[0m in \u001b[0;36m<module>\u001b[0;34m\u001b[0m\n\u001b[0;32m----> 1\u001b[0;31m \u001b[0mreduce\u001b[0m\u001b[0;34m(\u001b[0m\u001b[0mtest5\u001b[0m\u001b[0;34m,\u001b[0m\u001b[0ml\u001b[0m\u001b[0;34m)\u001b[0m\u001b[0;34m\u001b[0m\u001b[0;34m\u001b[0m\u001b[0m\n\u001b[0m",
      "\u001b[0;31mTypeError\u001b[0m: reduce() of empty sequence with no initial value"
     ]
    }
   ],
   "source": [
    "reduce(test5,l)"
   ]
  },
  {
   "cell_type": "code",
   "execution_count": 139,
   "id": "3ec75a66",
   "metadata": {},
   "outputs": [],
   "source": [
    "l=[1,2,3,4,5,6,7]"
   ]
  },
  {
   "cell_type": "code",
   "execution_count": 140,
   "id": "5dc75d66",
   "metadata": {},
   "outputs": [
    {
     "data": {
      "text/plain": [
       "28"
      ]
     },
     "execution_count": 140,
     "metadata": {},
     "output_type": "execute_result"
    }
   ],
   "source": [
    "reduce(lambda x,y:x+y,l)"
   ]
  },
  {
   "cell_type": "code",
   "execution_count": 144,
   "id": "5726f30a",
   "metadata": {},
   "outputs": [],
   "source": [
    "l=[1,2,3,4,5]\n",
    "l1=[4,5,6,7,7,8]"
   ]
  },
  {
   "cell_type": "code",
   "execution_count": 145,
   "id": "fc2643f5",
   "metadata": {},
   "outputs": [
    {
     "data": {
      "text/plain": [
       "[(1, 4), (2, 5), (3, 6), (4, 7), (5, 7)]"
      ]
     },
     "execution_count": 145,
     "metadata": {},
     "output_type": "execute_result"
    }
   ],
   "source": [
    "list(zip(l,l1))"
   ]
  },
  {
   "cell_type": "code",
   "execution_count": 146,
   "id": "160915ad",
   "metadata": {},
   "outputs": [],
   "source": [
    "l2=[\"yogesh\",\"kumar\",\"pooja\",\"sahu\",\"sanku\",\"preeti\"]"
   ]
  },
  {
   "cell_type": "code",
   "execution_count": 147,
   "id": "a4829860",
   "metadata": {},
   "outputs": [
    {
     "data": {
      "text/plain": [
       "[(1, 4, 'yogesh'),\n",
       " (2, 5, 'kumar'),\n",
       " (3, 6, 'pooja'),\n",
       " (4, 7, 'sahu'),\n",
       " (5, 7, 'sanku')]"
      ]
     },
     "execution_count": 147,
     "metadata": {},
     "output_type": "execute_result"
    }
   ],
   "source": [
    "list(zip(l,l1,l2))"
   ]
  },
  {
   "cell_type": "markdown",
   "id": "0420069a",
   "metadata": {},
   "source": [
    "Task for Today:\n",
    "q1=try to find out a count of each and every word in a respective file returna list of tuple with word and its respective count\n",
    "sample example:[('sudh',6),('kumar,3)]\n",
    "q2=try to perform a reduce operation to get a count of all the word starting with same alphabet\n",
    "sample example=[(a,23),(b,34),..\n",
    "\n",
    "q3=try to filter out all the word dataset\n",
    ".001.abstract=abstract\n",
    ".003=delete\n",
    "q4= create a tuple set for all the records available in all the five file and then store it in sqllite db\n",
    "(aah,>=,354,fdsf,wer)\n",
    "\n",
    "https://codeshare.io/X8PY8Y\n"
   ]
  }
 ],
 "metadata": {
  "kernelspec": {
   "display_name": "Python 3",
   "language": "python",
   "name": "python3"
  },
  "language_info": {
   "codemirror_mode": {
    "name": "ipython",
    "version": 3
   },
   "file_extension": ".py",
   "mimetype": "text/x-python",
   "name": "python",
   "nbconvert_exporter": "python",
   "pygments_lexer": "ipython3",
   "version": "3.8.8"
  }
 },
 "nbformat": 4,
 "nbformat_minor": 5
}

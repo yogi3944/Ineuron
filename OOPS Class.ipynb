{
 "cells": [
  {
   "cell_type": "code",
   "execution_count": 1,
   "id": "ab91491e",
   "metadata": {},
   "outputs": [],
   "source": [
    "class car:\n",
    "    pass"
   ]
  },
  {
   "cell_type": "code",
   "execution_count": 29,
   "id": "753f1f8d",
   "metadata": {},
   "outputs": [],
   "source": [
    "class car :\n",
    "    def __init__(self,brand_name,fueltype,body_type):\n",
    "        self.brand_name=brand_name\n",
    "        self.body_type=body_type\n",
    "        self.fueltype=fueltype\n",
    "        \n",
    "    def desc_car(self):\n",
    "        print(self.brand_name,self.body_type,self.fueltype)\n",
    "        "
   ]
  },
  {
   "cell_type": "code",
   "execution_count": 30,
   "id": "b1ba5e05",
   "metadata": {},
   "outputs": [],
   "source": [
    "innova=car(\"toyota\",\"petrol\",\"suv\")"
   ]
  },
  {
   "cell_type": "code",
   "execution_count": 6,
   "id": "dcd40d96",
   "metadata": {},
   "outputs": [],
   "source": [
    "#__init__ is a constructor. it is an entity which is responsible to provide data or give input to the class"
   ]
  },
  {
   "cell_type": "code",
   "execution_count": 7,
   "id": "7e9787a8",
   "metadata": {},
   "outputs": [],
   "source": [
    "#innova is a car class variable or we say \"object\""
   ]
  },
  {
   "cell_type": "code",
   "execution_count": 15,
   "id": "6fdca0eb",
   "metadata": {},
   "outputs": [],
   "source": [
    "#self in nothing but a pointer"
   ]
  },
  {
   "cell_type": "code",
   "execution_count": null,
   "id": "e70ff733",
   "metadata": {},
   "outputs": [],
   "source": [
    "#self should be first argument in all the function inside class"
   ]
  },
  {
   "cell_type": "code",
   "execution_count": 31,
   "id": "5f452894",
   "metadata": {},
   "outputs": [
    {
     "name": "stdout",
     "output_type": "stream",
     "text": [
      "toyota suv petrol\n"
     ]
    }
   ],
   "source": [
    "innova.desc_car()"
   ]
  },
  {
   "cell_type": "code",
   "execution_count": 22,
   "id": "9cd2cfe7",
   "metadata": {},
   "outputs": [],
   "source": [
    "nexon=car(\"tata\",\"petrol\",\"minsuv\")"
   ]
  },
  {
   "cell_type": "code",
   "execution_count": 23,
   "id": "e44acadd",
   "metadata": {},
   "outputs": [
    {
     "name": "stdout",
     "output_type": "stream",
     "text": [
      "tata minsuv petrol\n"
     ]
    }
   ],
   "source": [
    "nexon.desc_car()"
   ]
  },
  {
   "cell_type": "code",
   "execution_count": 24,
   "id": "20b5d187",
   "metadata": {},
   "outputs": [
    {
     "data": {
      "text/plain": [
       "'toyota'"
      ]
     },
     "execution_count": 24,
     "metadata": {},
     "output_type": "execute_result"
    }
   ],
   "source": [
    "innova.brand_name"
   ]
  },
  {
   "cell_type": "code",
   "execution_count": 25,
   "id": "b1e514dc",
   "metadata": {},
   "outputs": [
    {
     "data": {
      "text/plain": [
       "'suv'"
      ]
     },
     "execution_count": 25,
     "metadata": {},
     "output_type": "execute_result"
    }
   ],
   "source": [
    "innova.body_type"
   ]
  },
  {
   "cell_type": "code",
   "execution_count": 33,
   "id": "413669c9",
   "metadata": {},
   "outputs": [
    {
     "name": "stdout",
     "output_type": "stream",
     "text": [
      "<class 'int'>\n"
     ]
    }
   ],
   "source": [
    "a=10\n",
    "print(type(a))"
   ]
  },
  {
   "cell_type": "code",
   "execution_count": 3,
   "id": "ea45e3c1",
   "metadata": {},
   "outputs": [
    {
     "ename": "SyntaxError",
     "evalue": "invalid syntax (<ipython-input-3-e613711e10ee>, line 9)",
     "output_type": "error",
     "traceback": [
      "\u001b[0;36m  File \u001b[0;32m\"<ipython-input-3-e613711e10ee>\"\u001b[0;36m, line \u001b[0;32m9\u001b[0m\n\u001b[0;31m    def values_a(self):\u001b[0m\n\u001b[0m    ^\u001b[0m\n\u001b[0;31mSyntaxError\u001b[0m\u001b[0;31m:\u001b[0m invalid syntax\n"
     ]
    }
   ],
   "source": [
    "class dicta:\n",
    "    def __init__(self,dictkeyvalue):\n",
    "        self.dictkeyvalue=dictkeyvalue\n",
    "        \n",
    "    def keys_a(self):\n",
    "        if self.notdict():\n",
    "            return list(self.dictkeyvalue.keys())\n",
    "        \n",
    "    def values_a(self):\n",
    "        if self.notdict():                \n",
    "            return list(self.dictkeyvalue.values())\n",
    "        \n",
    "    def notdict(self):\n",
    "            if type(dictkeyvalue)!=dict:\n",
    "                raise Exception(self.dictkeyvalue,\"not a dictionary\")\n",
    "            return 1\n",
    "                \n",
    "    def userinput(self):\n",
    "                        \n",
    "        self.dictkeyvalue=eval(input())\n",
    "        print(self.dictkeyvalue,type(self.dictkeyvalue))\n",
    "        print(self.keys_a())\n",
    "        print(self.values_a())\n",
    "        \n",
    "                        \n",
    "    def insertion(self,k,v):\n",
    "        self.dictkeyvalue[k]=v\n",
    "        \n",
    "                                    \n",
    "                        \n",
    "        \n",
    "        "
   ]
  },
  {
   "cell_type": "code",
   "execution_count": null,
   "id": "cafc0837",
   "metadata": {},
   "outputs": [],
   "source": []
  },
  {
   "cell_type": "code",
   "execution_count": null,
   "id": "a63a7b1c",
   "metadata": {},
   "outputs": [],
   "source": []
  },
  {
   "cell_type": "code",
   "execution_count": null,
   "id": "6a54e343",
   "metadata": {},
   "outputs": [],
   "source": []
  },
  {
   "cell_type": "code",
   "execution_count": null,
   "id": "14a7b3a4",
   "metadata": {},
   "outputs": [],
   "source": []
  },
  {
   "cell_type": "code",
   "execution_count": 56,
   "id": "40bdd3c9",
   "metadata": {},
   "outputs": [],
   "source": [
    "dictionary_a={\"yogi\":2,\"pooja\":5,\"mummy\":1,\"papa\":9}"
   ]
  },
  {
   "cell_type": "code",
   "execution_count": 57,
   "id": "3873f5f0",
   "metadata": {},
   "outputs": [],
   "source": [
    "d=dicta(dictionary_a)"
   ]
  },
  {
   "cell_type": "code",
   "execution_count": 58,
   "id": "6ee9311a",
   "metadata": {},
   "outputs": [
    {
     "data": {
      "text/plain": [
       "dict_keys(['yogi', 'pooja', 'mummy', 'papa'])"
      ]
     },
     "execution_count": 58,
     "metadata": {},
     "output_type": "execute_result"
    }
   ],
   "source": [
    "dictionary_a.keys()"
   ]
  },
  {
   "cell_type": "code",
   "execution_count": 59,
   "id": "830cedbc",
   "metadata": {},
   "outputs": [
    {
     "data": {
      "text/plain": [
       "dict_values([2, 5, 1, 9])"
      ]
     },
     "execution_count": 59,
     "metadata": {},
     "output_type": "execute_result"
    }
   ],
   "source": [
    "dictionary_a.values()"
   ]
  },
  {
   "cell_type": "code",
   "execution_count": 60,
   "id": "5c71c2c5",
   "metadata": {},
   "outputs": [
    {
     "name": "stdout",
     "output_type": "stream",
     "text": [
      "dict_keys(['yogi', 'pooja', 'mummy', 'papa'])\n"
     ]
    }
   ],
   "source": [
    "d.keys_a()"
   ]
  },
  {
   "cell_type": "code",
   "execution_count": 61,
   "id": "5382c918",
   "metadata": {},
   "outputs": [
    {
     "name": "stdout",
     "output_type": "stream",
     "text": [
      "dict_values([2, 5, 1, 9])\n"
     ]
    }
   ],
   "source": [
    "d.values_a()"
   ]
  },
  {
   "cell_type": "code",
   "execution_count": 76,
   "id": "8144287a",
   "metadata": {},
   "outputs": [],
   "source": [
    "list_a=[1,2,3,4,5,6]"
   ]
  },
  {
   "cell_type": "code",
   "execution_count": 73,
   "id": "0df50037",
   "metadata": {},
   "outputs": [
    {
     "name": "stdout",
     "output_type": "stream",
     "text": [
      "no\n"
     ]
    }
   ],
   "source": [
    "if type(list_a)==dict:\n",
    "    print(\"yes\")\n",
    "    \n",
    "else:\n",
    "    print(\"no\")"
   ]
  },
  {
   "cell_type": "code",
   "execution_count": null,
   "id": "061bd45f",
   "metadata": {},
   "outputs": [],
   "source": []
  },
  {
   "cell_type": "code",
   "execution_count": 77,
   "id": "f35ad6c8",
   "metadata": {},
   "outputs": [],
   "source": [
    "d=dicta(list_a)"
   ]
  },
  {
   "cell_type": "code",
   "execution_count": 78,
   "id": "7d39172e",
   "metadata": {},
   "outputs": [
    {
     "name": "stdout",
     "output_type": "stream",
     "text": [
      "this is not dictionary\n"
     ]
    }
   ],
   "source": [
    "d.exception_a()"
   ]
  },
  {
   "cell_type": "code",
   "execution_count": 4,
   "id": "9fa5742e",
   "metadata": {},
   "outputs": [
    {
     "data": {
      "text/plain": [
       "<_io.TextIOWrapper name='mydict.py' mode='w' encoding='UTF-8'>"
      ]
     },
     "execution_count": 4,
     "metadata": {},
     "output_type": "execute_result"
    }
   ],
   "source": [
    "open(\"mydict.py\",\"w\")"
   ]
  },
  {
   "cell_type": "code",
   "execution_count": 5,
   "id": "9c58e08a",
   "metadata": {},
   "outputs": [
    {
     "name": "stdout",
     "output_type": "stream",
     "text": [
      "Module.ipynb             mydict.py                test1.py\r\n",
      "OOPS Class.ipynb         \u001b[34mpkg1\u001b[m\u001b[m/                    \u001b[34myogi\u001b[m\u001b[m/\r\n",
      "\u001b[34m__pycache__\u001b[m\u001b[m/             \u001b[34mpkg2\u001b[m\u001b[m/\r\n",
      "graphical python module  test.py\r\n"
     ]
    }
   ],
   "source": [
    "ls"
   ]
  },
  {
   "cell_type": "code",
   "execution_count": 1,
   "id": "9f1f3b4c",
   "metadata": {},
   "outputs": [],
   "source": [
    "import mydict"
   ]
  },
  {
   "cell_type": "code",
   "execution_count": 3,
   "id": "c2495741",
   "metadata": {},
   "outputs": [],
   "source": [
    "d =mydict.dicta(b)"
   ]
  },
  {
   "cell_type": "code",
   "execution_count": 2,
   "id": "f852e4dd",
   "metadata": {},
   "outputs": [],
   "source": [
    "b={\"k1\":\"yogi\",\"k2\":\"pooja\"}"
   ]
  },
  {
   "cell_type": "code",
   "execution_count": 4,
   "id": "d67c205f",
   "metadata": {},
   "outputs": [
    {
     "ename": "NameError",
     "evalue": "name 'dictkeyvalue' is not defined",
     "output_type": "error",
     "traceback": [
      "\u001b[0;31m---------------------------------------------------------------------------\u001b[0m",
      "\u001b[0;31mNameError\u001b[0m                                 Traceback (most recent call last)",
      "\u001b[0;32m<ipython-input-4-4636cad78c3c>\u001b[0m in \u001b[0;36m<module>\u001b[0;34m\u001b[0m\n\u001b[0;32m----> 1\u001b[0;31m \u001b[0md\u001b[0m\u001b[0;34m.\u001b[0m\u001b[0mkeys_a\u001b[0m\u001b[0;34m(\u001b[0m\u001b[0;34m)\u001b[0m\u001b[0;34m\u001b[0m\u001b[0;34m\u001b[0m\u001b[0m\n\u001b[0m",
      "\u001b[0;32m~/Desktop/Yogesh_Study_Document/Ineuron/mydict.py\u001b[0m in \u001b[0;36mkeys_a\u001b[0;34m(self)\u001b[0m\n\u001b[1;32m      4\u001b[0m \u001b[0;34m\u001b[0m\u001b[0m\n\u001b[1;32m      5\u001b[0m     \u001b[0;32mdef\u001b[0m \u001b[0mkeys_a\u001b[0m\u001b[0;34m(\u001b[0m\u001b[0mself\u001b[0m\u001b[0;34m)\u001b[0m\u001b[0;34m:\u001b[0m\u001b[0;34m\u001b[0m\u001b[0;34m\u001b[0m\u001b[0m\n\u001b[0;32m----> 6\u001b[0;31m         \u001b[0;32mif\u001b[0m \u001b[0mself\u001b[0m\u001b[0;34m.\u001b[0m\u001b[0mnotdict\u001b[0m\u001b[0;34m(\u001b[0m\u001b[0;34m)\u001b[0m\u001b[0;34m:\u001b[0m\u001b[0;34m\u001b[0m\u001b[0;34m\u001b[0m\u001b[0m\n\u001b[0m\u001b[1;32m      7\u001b[0m             \u001b[0;32mreturn\u001b[0m \u001b[0mlist\u001b[0m\u001b[0;34m(\u001b[0m\u001b[0mself\u001b[0m\u001b[0;34m.\u001b[0m\u001b[0mdictkeyvalue\u001b[0m\u001b[0;34m.\u001b[0m\u001b[0mkeys\u001b[0m\u001b[0;34m(\u001b[0m\u001b[0;34m)\u001b[0m\u001b[0;34m)\u001b[0m\u001b[0;34m\u001b[0m\u001b[0;34m\u001b[0m\u001b[0m\n\u001b[1;32m      8\u001b[0m \u001b[0;34m\u001b[0m\u001b[0m\n",
      "\u001b[0;32m~/Desktop/Yogesh_Study_Document/Ineuron/mydict.py\u001b[0m in \u001b[0;36mnotdict\u001b[0;34m(self)\u001b[0m\n\u001b[1;32m     12\u001b[0m \u001b[0;34m\u001b[0m\u001b[0m\n\u001b[1;32m     13\u001b[0m     \u001b[0;32mdef\u001b[0m \u001b[0mnotdict\u001b[0m\u001b[0;34m(\u001b[0m\u001b[0mself\u001b[0m\u001b[0;34m)\u001b[0m\u001b[0;34m:\u001b[0m\u001b[0;34m\u001b[0m\u001b[0;34m\u001b[0m\u001b[0m\n\u001b[0;32m---> 14\u001b[0;31m             \u001b[0;32mif\u001b[0m \u001b[0mtype\u001b[0m\u001b[0;34m(\u001b[0m\u001b[0mdictkeyvalue\u001b[0m\u001b[0;34m)\u001b[0m\u001b[0;34m!=\u001b[0m\u001b[0mdict\u001b[0m\u001b[0;34m:\u001b[0m\u001b[0;34m\u001b[0m\u001b[0;34m\u001b[0m\u001b[0m\n\u001b[0m\u001b[1;32m     15\u001b[0m                 \u001b[0;32mraise\u001b[0m \u001b[0mException\u001b[0m\u001b[0;34m(\u001b[0m\u001b[0mself\u001b[0m\u001b[0;34m.\u001b[0m\u001b[0mdictkeyvalue\u001b[0m\u001b[0;34m,\u001b[0m\u001b[0;34m\"not a dictionary\"\u001b[0m\u001b[0;34m)\u001b[0m\u001b[0;34m\u001b[0m\u001b[0;34m\u001b[0m\u001b[0m\n\u001b[1;32m     16\u001b[0m             \u001b[0;32mreturn\u001b[0m \u001b[0;36m1\u001b[0m\u001b[0;34m\u001b[0m\u001b[0;34m\u001b[0m\u001b[0m\n",
      "\u001b[0;31mNameError\u001b[0m: name 'dictkeyvalue' is not defined"
     ]
    }
   ],
   "source": [
    "d.keys_a()"
   ]
  },
  {
   "cell_type": "code",
   "execution_count": 5,
   "id": "4bce38fa",
   "metadata": {},
   "outputs": [
    {
     "ename": "NameError",
     "evalue": "name 'dictkeyvalue' is not defined",
     "output_type": "error",
     "traceback": [
      "\u001b[0;31m---------------------------------------------------------------------------\u001b[0m",
      "\u001b[0;31mNameError\u001b[0m                                 Traceback (most recent call last)",
      "\u001b[0;32m<ipython-input-5-5c3cc4045294>\u001b[0m in \u001b[0;36m<module>\u001b[0;34m\u001b[0m\n\u001b[0;32m----> 1\u001b[0;31m \u001b[0md\u001b[0m\u001b[0;34m.\u001b[0m\u001b[0mvalues_a\u001b[0m\u001b[0;34m(\u001b[0m\u001b[0;34m)\u001b[0m\u001b[0;34m\u001b[0m\u001b[0;34m\u001b[0m\u001b[0m\n\u001b[0m",
      "\u001b[0;32m~/Desktop/Yogesh_Study_Document/Ineuron/mydict.py\u001b[0m in \u001b[0;36mvalues_a\u001b[0;34m(self)\u001b[0m\n\u001b[1;32m      8\u001b[0m \u001b[0;34m\u001b[0m\u001b[0m\n\u001b[1;32m      9\u001b[0m     \u001b[0;32mdef\u001b[0m \u001b[0mvalues_a\u001b[0m\u001b[0;34m(\u001b[0m\u001b[0mself\u001b[0m\u001b[0;34m)\u001b[0m\u001b[0;34m:\u001b[0m\u001b[0;34m\u001b[0m\u001b[0;34m\u001b[0m\u001b[0m\n\u001b[0;32m---> 10\u001b[0;31m         \u001b[0;32mif\u001b[0m \u001b[0mself\u001b[0m\u001b[0;34m.\u001b[0m\u001b[0mnotdict\u001b[0m\u001b[0;34m(\u001b[0m\u001b[0;34m)\u001b[0m\u001b[0;34m:\u001b[0m\u001b[0;34m\u001b[0m\u001b[0;34m\u001b[0m\u001b[0m\n\u001b[0m\u001b[1;32m     11\u001b[0m             \u001b[0;32mreturn\u001b[0m \u001b[0mlist\u001b[0m\u001b[0;34m(\u001b[0m\u001b[0mself\u001b[0m\u001b[0;34m.\u001b[0m\u001b[0mdictkeyvalue\u001b[0m\u001b[0;34m.\u001b[0m\u001b[0mvalues\u001b[0m\u001b[0;34m(\u001b[0m\u001b[0;34m)\u001b[0m\u001b[0;34m)\u001b[0m\u001b[0;34m\u001b[0m\u001b[0;34m\u001b[0m\u001b[0m\n\u001b[1;32m     12\u001b[0m \u001b[0;34m\u001b[0m\u001b[0m\n",
      "\u001b[0;32m~/Desktop/Yogesh_Study_Document/Ineuron/mydict.py\u001b[0m in \u001b[0;36mnotdict\u001b[0;34m(self)\u001b[0m\n\u001b[1;32m     12\u001b[0m \u001b[0;34m\u001b[0m\u001b[0m\n\u001b[1;32m     13\u001b[0m     \u001b[0;32mdef\u001b[0m \u001b[0mnotdict\u001b[0m\u001b[0;34m(\u001b[0m\u001b[0mself\u001b[0m\u001b[0;34m)\u001b[0m\u001b[0;34m:\u001b[0m\u001b[0;34m\u001b[0m\u001b[0;34m\u001b[0m\u001b[0m\n\u001b[0;32m---> 14\u001b[0;31m             \u001b[0;32mif\u001b[0m \u001b[0mtype\u001b[0m\u001b[0;34m(\u001b[0m\u001b[0mdictkeyvalue\u001b[0m\u001b[0;34m)\u001b[0m\u001b[0;34m!=\u001b[0m\u001b[0mdict\u001b[0m\u001b[0;34m:\u001b[0m\u001b[0;34m\u001b[0m\u001b[0;34m\u001b[0m\u001b[0m\n\u001b[0m\u001b[1;32m     15\u001b[0m                 \u001b[0;32mraise\u001b[0m \u001b[0mException\u001b[0m\u001b[0;34m(\u001b[0m\u001b[0mself\u001b[0m\u001b[0;34m.\u001b[0m\u001b[0mdictkeyvalue\u001b[0m\u001b[0;34m,\u001b[0m\u001b[0;34m\"not a dictionary\"\u001b[0m\u001b[0;34m)\u001b[0m\u001b[0;34m\u001b[0m\u001b[0;34m\u001b[0m\u001b[0m\n\u001b[1;32m     16\u001b[0m             \u001b[0;32mreturn\u001b[0m \u001b[0;36m1\u001b[0m\u001b[0;34m\u001b[0m\u001b[0;34m\u001b[0m\u001b[0m\n",
      "\u001b[0;31mNameError\u001b[0m: name 'dictkeyvalue' is not defined"
     ]
    }
   ],
   "source": [
    "d.values_a()"
   ]
  },
  {
   "cell_type": "code",
   "execution_count": 6,
   "id": "9cd5ede7",
   "metadata": {},
   "outputs": [],
   "source": [
    "class xyz:\n",
    "    def __init__(self,a,b,c):\n",
    "        self.a=a\n",
    "        self.b=b\n",
    "        self.c=c\n",
    "        \n",
    "    def test(self):\n",
    "        print(\"this is my first test method of xyz class\")\n",
    "        \n",
    "    def test1(self):\n",
    "        print(\"this is a test1 mrth of xyz class\")\n",
    "        \n",
    "    def test2(self):\n",
    "        print(\"this is my test2 meth of xyz class\")\n",
    "        \n"
   ]
  },
  {
   "cell_type": "code",
   "execution_count": 14,
   "id": "222cdc3f",
   "metadata": {},
   "outputs": [],
   "source": [
    "class xyz1(xyz):     #inheritance\n",
    "    pass\n",
    "    \n",
    "    \n",
    "    "
   ]
  },
  {
   "cell_type": "code",
   "execution_count": 8,
   "id": "6708f1c5",
   "metadata": {},
   "outputs": [],
   "source": [
    "p = xyz(1,2,3)"
   ]
  },
  {
   "cell_type": "code",
   "execution_count": 9,
   "id": "cdb53f32",
   "metadata": {},
   "outputs": [
    {
     "data": {
      "text/plain": [
       "1"
      ]
     },
     "execution_count": 9,
     "metadata": {},
     "output_type": "execute_result"
    }
   ],
   "source": [
    "p.a"
   ]
  },
  {
   "cell_type": "code",
   "execution_count": 11,
   "id": "73f0e34a",
   "metadata": {},
   "outputs": [
    {
     "name": "stdout",
     "output_type": "stream",
     "text": [
      "this is my test2 meth of xyz class\n"
     ]
    }
   ],
   "source": [
    "p.test2()"
   ]
  },
  {
   "cell_type": "code",
   "execution_count": 15,
   "id": "1d4cbf34",
   "metadata": {},
   "outputs": [
    {
     "ename": "TypeError",
     "evalue": "__init__() missing 3 required positional arguments: 'a', 'b', and 'c'",
     "output_type": "error",
     "traceback": [
      "\u001b[0;31m---------------------------------------------------------------------------\u001b[0m",
      "\u001b[0;31mTypeError\u001b[0m                                 Traceback (most recent call last)",
      "\u001b[0;32m<ipython-input-15-4a306fa9141e>\u001b[0m in \u001b[0;36m<module>\u001b[0;34m\u001b[0m\n\u001b[0;32m----> 1\u001b[0;31m \u001b[0mq\u001b[0m\u001b[0;34m=\u001b[0m\u001b[0mxyz1\u001b[0m\u001b[0;34m(\u001b[0m\u001b[0;34m)\u001b[0m\u001b[0;34m\u001b[0m\u001b[0;34m\u001b[0m\u001b[0m\n\u001b[0m",
      "\u001b[0;31mTypeError\u001b[0m: __init__() missing 3 required positional arguments: 'a', 'b', and 'c'"
     ]
    }
   ],
   "source": [
    "q=xyz1()"
   ]
  },
  {
   "cell_type": "code",
   "execution_count": 16,
   "id": "f1ca0b27",
   "metadata": {},
   "outputs": [],
   "source": [
    "q=xyz1(3,4,5)"
   ]
  },
  {
   "cell_type": "code",
   "execution_count": null,
   "id": "93d2450c",
   "metadata": {},
   "outputs": [],
   "source": [
    "q."
   ]
  },
  {
   "cell_type": "code",
   "execution_count": null,
   "id": "40354c7a",
   "metadata": {},
   "outputs": [],
   "source": []
  }
 ],
 "metadata": {
  "kernelspec": {
   "display_name": "Python 3",
   "language": "python",
   "name": "python3"
  },
  "language_info": {
   "codemirror_mode": {
    "name": "ipython",
    "version": 3
   },
   "file_extension": ".py",
   "mimetype": "text/x-python",
   "name": "python",
   "nbconvert_exporter": "python",
   "pygments_lexer": "ipython3",
   "version": "3.8.8"
  }
 },
 "nbformat": 4,
 "nbformat_minor": 5
}

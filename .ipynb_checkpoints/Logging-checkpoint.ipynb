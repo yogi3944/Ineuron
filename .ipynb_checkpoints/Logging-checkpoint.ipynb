{
 "cells": [
  {
   "cell_type": "code",
   "execution_count": 1,
   "id": "07e0e28d",
   "metadata": {},
   "outputs": [],
   "source": [
    "import logging"
   ]
  },
  {
   "cell_type": "code",
   "execution_count": 11,
   "id": "0032f3b0",
   "metadata": {},
   "outputs": [],
   "source": [
    "logging.basicConfig(filename=\"test.log\",level=logging.INFO)"
   ]
  },
  {
   "cell_type": "code",
   "execution_count": 3,
   "id": "477cd937",
   "metadata": {},
   "outputs": [
    {
     "data": {
      "text/plain": [
       "'/Users/yogesh/Desktop/Yogesh_Study_Document/Ineuron'"
      ]
     },
     "execution_count": 3,
     "metadata": {},
     "output_type": "execute_result"
    }
   ],
   "source": [
    "pwd()"
   ]
  },
  {
   "cell_type": "code",
   "execution_count": 4,
   "id": "4a0cd219",
   "metadata": {},
   "outputs": [
    {
     "name": "stdout",
     "output_type": "stream",
     "text": [
      "Assignment 1.ipynb              \u001b[34m__pycache__\u001b[m\u001b[m/\r\n",
      "Assignment 2.ipynb              exception handling.ipynb\r\n",
      "Assignment_1.docx               graphical python module\r\n",
      "Assignment_2.docx               mongodb.ipynb\r\n",
      "Logging.ipynb                   mydict.py\r\n",
      "Module.ipynb                    \u001b[34mpkg1\u001b[m\u001b[m/\r\n",
      "OOPS Class.ipynb                \u001b[34mpkg2\u001b[m\u001b[m/\r\n",
      "Programming Assignment 1.ipynb  test.log\r\n",
      "Programming Assignment 2.ipynb  test.py\r\n",
      "Programming_Assingment 3.ipynb  test1.py\r\n",
      "Programming_Assingment1.docx    \u001b[34myogi\u001b[m\u001b[m/\r\n",
      "Programming_Assingment2.docx    ~$ogramming_Assingment3.docx\r\n",
      "Programming_Assingment3.docx\r\n"
     ]
    }
   ],
   "source": [
    "%ls"
   ]
  },
  {
   "cell_type": "markdown",
   "id": "6012db70",
   "metadata": {},
   "source": [
    "DEBUG\n",
    "INFO\n",
    "WARNING\n",
    "ERROR\n",
    "CRITICAL"
   ]
  },
  {
   "cell_type": "code",
   "execution_count": 13,
   "id": "621b5328",
   "metadata": {},
   "outputs": [],
   "source": [
    "logging.info(\"this is my info log\")\n",
    "logging.warning(\"this is my warning log\")\n",
    "logging.error(\"this si my error log\")"
   ]
  },
  {
   "cell_type": "code",
   "execution_count": 10,
   "id": "35cce945",
   "metadata": {},
   "outputs": [],
   "source": [
    "logging.shutdown()"
   ]
  },
  {
   "cell_type": "code",
   "execution_count": null,
   "id": "5c6aa9a4",
   "metadata": {},
   "outputs": [],
   "source": []
  },
  {
   "cell_type": "code",
   "execution_count": null,
   "id": "7247a45d",
   "metadata": {},
   "outputs": [],
   "source": []
  },
  {
   "cell_type": "code",
   "execution_count": null,
   "id": "1c08702a",
   "metadata": {},
   "outputs": [],
   "source": []
  },
  {
   "cell_type": "code",
   "execution_count": null,
   "id": "26ff1483",
   "metadata": {},
   "outputs": [],
   "source": []
  }
 ],
 "metadata": {
  "kernelspec": {
   "display_name": "Python 3",
   "language": "python",
   "name": "python3"
  },
  "language_info": {
   "codemirror_mode": {
    "name": "ipython",
    "version": 3
   },
   "file_extension": ".py",
   "mimetype": "text/x-python",
   "name": "python",
   "nbconvert_exporter": "python",
   "pygments_lexer": "ipython3",
   "version": "3.8.8"
  }
 },
 "nbformat": 4,
 "nbformat_minor": 5
}

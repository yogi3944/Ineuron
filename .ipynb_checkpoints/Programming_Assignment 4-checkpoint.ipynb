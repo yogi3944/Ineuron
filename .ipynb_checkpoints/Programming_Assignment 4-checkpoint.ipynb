{
 "cells": [
  {
   "cell_type": "raw",
   "id": "7d1496e7",
   "metadata": {},
   "source": [
    "1.\tWrite a Python Program to Find the Factorial of a Number?"
   ]
  },
  {
   "cell_type": "code",
   "execution_count": 5,
   "id": "1a6c8843",
   "metadata": {},
   "outputs": [
    {
     "name": "stdout",
     "output_type": "stream",
     "text": [
      "Enter number for which find the Factorial: 12\n",
      "factorial of 12 is 479001600\n"
     ]
    }
   ],
   "source": [
    "# 1.\tWrite a Python Program to Find the Factorial of a Number?\n",
    "\n",
    "import logging\n",
    "\n",
    "logging.basicConfig(filename=\"programming_Assignment_4.log\", level=logging.INFO,\n",
    "                    format='%(asctime)s %(levelname)s %(message)s')\n",
    "factorial = 1\n",
    "while True:\n",
    "    try:\n",
    "        num = int(input(\"Enter number for which find the Factorial: \"))\n",
    "        logging.info(\"entered number successfully: %s\",num)\n",
    "        break\n",
    "    except Exception as e:\n",
    "        logging.error(\"Error has happened\")\n",
    "        print(\"Please input number only\", e)\n",
    "\n",
    "        continue\n",
    "if num < 0:\n",
    "    print(\"Sorry, factorial does not exist for negative numbers\")\n",
    "\n",
    "elif num == 0:\n",
    "    print (\"factorial of 0 is 1\")\n",
    "\n",
    "else:\n",
    "    for i in range(1, num + 1):\n",
    "        factorial = factorial * i\n",
    "    print(\"factorial of {} is {}\".format(num,factorial))\n",
    "    logging.info(\"factorial of %s is : %s\", num,factorial)\n"
   ]
  },
  {
   "cell_type": "code",
   "execution_count": null,
   "id": "b23ada7a",
   "metadata": {},
   "outputs": [],
   "source": []
  },
  {
   "cell_type": "code",
   "execution_count": null,
   "id": "f9d2465c",
   "metadata": {},
   "outputs": [],
   "source": []
  },
  {
   "cell_type": "code",
   "execution_count": null,
   "id": "59c49aff",
   "metadata": {},
   "outputs": [],
   "source": []
  },
  {
   "cell_type": "code",
   "execution_count": null,
   "id": "55e35327",
   "metadata": {},
   "outputs": [],
   "source": []
  },
  {
   "cell_type": "code",
   "execution_count": null,
   "id": "0de78379",
   "metadata": {},
   "outputs": [],
   "source": []
  }
 ],
 "metadata": {
  "kernelspec": {
   "display_name": "Python 3",
   "language": "python",
   "name": "python3"
  },
  "language_info": {
   "codemirror_mode": {
    "name": "ipython",
    "version": 3
   },
   "file_extension": ".py",
   "mimetype": "text/x-python",
   "name": "python",
   "nbconvert_exporter": "python",
   "pygments_lexer": "ipython3",
   "version": "3.8.8"
  }
 },
 "nbformat": 4,
 "nbformat_minor": 5
}
